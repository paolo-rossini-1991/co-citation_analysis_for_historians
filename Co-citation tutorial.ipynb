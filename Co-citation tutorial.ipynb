{
 "cells": [
  {
   "cell_type": "markdown",
   "id": "26ebb393",
   "metadata": {},
   "source": [
    "# Modeling and analyzing co-citation networks from historical records with R"
   ]
  },
  {
   "cell_type": "markdown",
   "id": "878a6f43",
   "metadata": {},
   "source": [
    "Paolo Rossini, ORCID: ... "
   ]
  },
  {
   "cell_type": "markdown",
   "id": "9e35e0ca",
   "metadata": {},
   "source": [
    "__Abstract__: Co-citations (i.e., when two authors or publications are mentioned together in a third document) can be very insightful when analyzed on a large scale. This tutorial, specifically devised for historians, offers a step-by-step guide for performing co-citation analysis using four R libraries. It is meant as a supplement to a research article currently under review. "
   ]
  },
  {
   "cell_type": "markdown",
   "id": "48585103",
   "metadata": {},
   "source": [
    "## Introduction"
   ]
  },
  {
   "cell_type": "markdown",
   "id": "a8119f38",
   "metadata": {},
   "source": [
    "You may be familiar with the concept of co-citation, i.e., when two authors or publications are mentioned together in a third document. This concept is very popular in scientometrics, the field of study that concerns itself with the analysis and evaluation of scientific research using mainly quantitative indicators. Co-citation is one of these indicators. It is used to see how scientific areas shape up and evolve over time. The underlying idea is that if two authors or  publications are often mentioned together, they may be similar to each other in terms of discussed topics and thus may belong to the same scientific area. \n",
    "\n",
    "The same information can also be represented as a network where nodes representing authors or publications are linked together by edges representing co-citations. The resulting network will be composed of several \"communities\" or \"clusters,\" which can be easily identified by means of a community detection algorithm such as the Louvain method. Roughly, each community will stand for a specific scientific area (although communities may take on different meanings depending on the discipline being analyzed; see the article for more information). Through a co-citation network, therefore, one can go beyond the study of *couples* of authors or publications and see how scientific *communities* relate to one another. \n",
    "\n",
    "In much the same way, we can use co-citation analysis to map the evolution of science in the past. Whereas in scientometrics co-citation analysis is usually applied to large corpora of scientific publications, we will use historical records as our data source. For the purpose of this tutorial, I have compiled a list of seventeenth-century letters mentioning thirty scholars of my choice. The metadata of the letters were harvested from ePistolarium (http://ckcc.huygens.knaw.nl/epistolarium/) and then processed using an ad hoc R script, as explained below. The general workflow can be divided into three steps: data preparation (sec. 1), data normalization (sec. 2), data visualization (sec. 3). "
   ]
  },
  {
   "cell_type": "markdown",
   "id": "5e5acc68",
   "metadata": {},
   "source": [
    "# 1. Data preparation"
   ]
  },
  {
   "cell_type": "markdown",
   "id": "bf4c9bff",
   "metadata": {},
   "source": [
    "First, let us have a look at our data set.  "
   ]
  },
  {
   "cell_type": "code",
   "execution_count": null,
   "id": "982908fa",
   "metadata": {},
   "outputs": [],
   "source": []
  }
 ],
 "metadata": {
  "kernelspec": {
   "display_name": "R",
   "language": "R",
   "name": "ir"
  },
  "language_info": {
   "codemirror_mode": "r",
   "file_extension": ".r",
   "mimetype": "text/x-r-source",
   "name": "R",
   "pygments_lexer": "r",
   "version": "4.1.1"
  }
 },
 "nbformat": 4,
 "nbformat_minor": 5
}
